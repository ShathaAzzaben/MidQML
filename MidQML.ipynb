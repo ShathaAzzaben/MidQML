{
  "nbformat": 4,
  "nbformat_minor": 0,
  "metadata": {
    "colab": {
      "provenance": []
    },
    "kernelspec": {
      "name": "python3",
      "display_name": "Python 3"
    },
    "language_info": {
      "name": "python"
    }
  },
  "cells": [
    {
      "cell_type": "markdown",
      "source": [
        "# Install Required Packages"
      ],
      "metadata": {
        "id": "ywBex2sEBFak"
      }
    },
    {
      "cell_type": "code",
      "source": [
        "# Install required libraries with specific versions for compatibility\n",
        "\n",
        "%pip install numpy==1.24.4 scipy==1.10.1"
      ],
      "metadata": {
        "colab": {
          "base_uri": "https://localhost:8080/"
        },
        "id": "HQgIIcms_WEX",
        "outputId": "d56550e5-88bd-4748-ed8f-ea615be82fcc",
        "collapsed": true
      },
      "execution_count": null,
      "outputs": [
        {
          "output_type": "stream",
          "name": "stdout",
          "text": [
            "Requirement already satisfied: numpy==1.24.4 in /usr/local/lib/python3.11/dist-packages (1.24.4)\n",
            "Requirement already satisfied: scipy==1.10.1 in /usr/local/lib/python3.11/dist-packages (1.10.1)\n"
          ]
        }
      ]
    },
    {
      "cell_type": "markdown",
      "source": [
        "# Dataset Download Using kagglehub\n",
        "\n"
      ],
      "metadata": {
        "id": "yHxNgK4FBLEz"
      }
    },
    {
      "cell_type": "code",
      "execution_count": null,
      "metadata": {
        "id": "i7l7YXpXabBY",
        "collapsed": true
      },
      "outputs": [],
      "source": [
        "# Download the PaySim dataset from Kaggle using kagglehub\n",
        "\n",
        "import kagglehub\n",
        "# Download latest version\n",
        "path = kagglehub.dataset_download(\"ealaxi/paysim1\")"
      ]
    },
    {
      "cell_type": "markdown",
      "source": [
        "# Loading and Preprocessing the Data"
      ],
      "metadata": {
        "id": "p1B6cHrwBBps"
      }
    },
    {
      "cell_type": "code",
      "source": [
        "import os\n",
        "import pandas as pd\n",
        "csv_file_path = os.path.join(path, 'PS_20174392719_1491204439457_log.csv')\n",
        "df = pd.read_csv(csv_file_path)\n",
        "df = df.rename(columns={'oldbalanceOrg':'oldBalanceOrig', 'newbalanceOrig':'newBalanceOrig', \\\n",
        "                        'oldbalanceDest':'oldBalanceDest', 'newbalanceDest':'newBalanceDest'})\n",
        "print(df.head())\n"
      ],
      "metadata": {
        "colab": {
          "base_uri": "https://localhost:8080/"
        },
        "id": "Ufjg_gyYcbm9",
        "outputId": "865bad13-be7f-4e73-c451-a10d4be85de9"
      },
      "execution_count": null,
      "outputs": [
        {
          "output_type": "stream",
          "name": "stdout",
          "text": [
            "   step      type    amount     nameOrig  oldBalanceOrig  newBalanceOrig  \\\n",
            "0     1   PAYMENT   9839.64  C1231006815        170136.0       160296.36   \n",
            "1     1   PAYMENT   1864.28  C1666544295         21249.0        19384.72   \n",
            "2     1  TRANSFER    181.00  C1305486145           181.0            0.00   \n",
            "3     1  CASH_OUT    181.00   C840083671           181.0            0.00   \n",
            "4     1   PAYMENT  11668.14  C2048537720         41554.0        29885.86   \n",
            "\n",
            "      nameDest  oldBalanceDest  newBalanceDest  isFraud  isFlaggedFraud  \n",
            "0  M1979787155             0.0             0.0        0               0  \n",
            "1  M2044282225             0.0             0.0        0               0  \n",
            "2   C553264065             0.0             0.0        1               0  \n",
            "3    C38997010         21182.0             0.0        1               0  \n",
            "4  M1230701703             0.0             0.0        0               0  \n"
          ]
        }
      ]
    },
    {
      "cell_type": "markdown",
      "source": [
        "# Encode Categorical Column"
      ],
      "metadata": {
        "id": "BppUbwkPBkuJ"
      }
    },
    {
      "cell_type": "code",
      "source": [
        "# Encode categorical 'type' column into numerical labels for ML compatibility\n",
        "\n",
        "from sklearn.preprocessing import LabelEncoder\n",
        "LabelEncoderType = LabelEncoder()\n",
        "df['type'] = LabelEncoderType.fit_transform(df['type'])"
      ],
      "metadata": {
        "id": "_oVmsNLndSBv"
      },
      "execution_count": null,
      "outputs": []
    },
    {
      "cell_type": "markdown",
      "source": [
        "# Drop Irrelevant Columns"
      ],
      "metadata": {
        "id": "5TTa6niyBnh1"
      }
    },
    {
      "cell_type": "code",
      "source": [
        "# Drop irrelevant columns (origin and destination account IDs)\n",
        "\n",
        "df = df.drop(['nameOrig', 'nameDest'], axis=1)"
      ],
      "metadata": {
        "id": "vVM_ZSnZi-xH"
      },
      "execution_count": null,
      "outputs": []
    },
    {
      "cell_type": "markdown",
      "source": [
        "# Feature and Label Separation"
      ],
      "metadata": {
        "id": "OO6d-281Bqsj"
      }
    },
    {
      "cell_type": "code",
      "source": [
        "# Separate features (X) and target label (y)\n",
        "\n",
        "y = df['isFraud']\n",
        "X = df.drop(['isFraud'], axis=1)"
      ],
      "metadata": {
        "id": "ZjDAIexujY8f"
      },
      "execution_count": null,
      "outputs": []
    },
    {
      "cell_type": "markdown",
      "source": [
        "# Install Qiskit for Quantum ML"
      ],
      "metadata": {
        "id": "ynQe41B8Byih"
      }
    },
    {
      "cell_type": "code",
      "source": [
        "!pip install qiskit==0.44.1 qiskit-aer==0.12.1 qiskit-algorithms==0.3.1 qiskit-machine-learning==0.7.0 qiskit_ibm_runtime pylatexenc"
      ],
      "metadata": {
        "colab": {
          "base_uri": "https://localhost:8080/"
        },
        "id": "bP7y3CrelJo4",
        "outputId": "3afefc5e-792f-4e3a-b5bc-fa9ea04b2c83",
        "collapsed": true
      },
      "execution_count": null,
      "outputs": [
        {
          "output_type": "stream",
          "name": "stdout",
          "text": [
            "Collecting qiskit==0.44.1\n",
            "  Downloading qiskit-0.44.1-py3-none-any.whl.metadata (8.2 kB)\n",
            "Collecting qiskit-aer==0.12.1\n",
            "  Downloading qiskit_aer-0.12.1-cp311-cp311-manylinux_2_17_x86_64.manylinux2014_x86_64.whl.metadata (6.2 kB)\n",
            "Collecting qiskit-algorithms==0.3.1\n",
            "  Downloading qiskit_algorithms-0.3.1-py3-none-any.whl.metadata (4.2 kB)\n",
            "Collecting qiskit-machine-learning==0.7.0\n",
            "  Downloading qiskit_machine_learning-0.7.0-py3-none-any.whl.metadata (12 kB)\n",
            "Collecting qiskit_ibm_runtime\n",
            "  Downloading qiskit_ibm_runtime-0.40.0-py3-none-any.whl.metadata (21 kB)\n",
            "Collecting pylatexenc\n",
            "  Downloading pylatexenc-2.10.tar.gz (162 kB)\n",
            "\u001b[2K     \u001b[90m━━━━━━━━━━━━━━━━━━━━━━━━━━━━━━━━━━━━━━━\u001b[0m \u001b[32m162.6/162.6 kB\u001b[0m \u001b[31m4.6 MB/s\u001b[0m eta \u001b[36m0:00:00\u001b[0m\n",
            "\u001b[?25h  Preparing metadata (setup.py) ... \u001b[?25l\u001b[?25hdone\n",
            "Collecting qiskit-terra==0.25.1 (from qiskit==0.44.1)\n",
            "  Downloading qiskit_terra-0.25.1-cp38-abi3-manylinux_2_17_x86_64.manylinux2014_x86_64.whl.metadata (9.0 kB)\n",
            "Requirement already satisfied: numpy>=1.16.3 in /usr/local/lib/python3.11/dist-packages (from qiskit-aer==0.12.1) (1.24.4)\n",
            "Requirement already satisfied: scipy>=1.0 in /usr/local/lib/python3.11/dist-packages (from qiskit-aer==0.12.1) (1.10.1)\n",
            "Requirement already satisfied: psutil>=5 in /usr/local/lib/python3.11/dist-packages (from qiskit-machine-learning==0.7.0) (5.9.5)\n",
            "Requirement already satisfied: scikit-learn>=1.2.0 in /usr/local/lib/python3.11/dist-packages (from qiskit-machine-learning==0.7.0) (1.6.1)\n",
            "Collecting fastdtw (from qiskit-machine-learning==0.7.0)\n",
            "  Downloading fastdtw-0.3.4.tar.gz (133 kB)\n",
            "\u001b[2K     \u001b[90m━━━━━━━━━━━━━━━━━━━━━━━━━━━━━━━━━━━━━━━\u001b[0m \u001b[32m133.4/133.4 kB\u001b[0m \u001b[31m9.2 MB/s\u001b[0m eta \u001b[36m0:00:00\u001b[0m\n",
            "\u001b[?25h  Preparing metadata (setup.py) ... \u001b[?25l\u001b[?25hdone\n",
            "Requirement already satisfied: setuptools>=40.1.0 in /usr/local/lib/python3.11/dist-packages (from qiskit-machine-learning==0.7.0) (75.2.0)\n",
            "Requirement already satisfied: dill>=0.3.4 in /usr/local/lib/python3.11/dist-packages (from qiskit-machine-learning==0.7.0) (0.3.7)\n",
            "Collecting rustworkx>=0.13.0 (from qiskit-terra==0.25.1->qiskit==0.44.1)\n",
            "  Downloading rustworkx-0.16.0-cp39-abi3-manylinux_2_17_x86_64.manylinux2014_x86_64.whl.metadata (10 kB)\n",
            "Requirement already satisfied: ply>=3.10 in /usr/local/lib/python3.11/dist-packages (from qiskit-terra==0.25.1->qiskit==0.44.1) (3.11)\n",
            "Requirement already satisfied: sympy>=1.3 in /usr/local/lib/python3.11/dist-packages (from qiskit-terra==0.25.1->qiskit==0.44.1) (1.13.1)\n",
            "Requirement already satisfied: python-dateutil>=2.8.0 in /usr/local/lib/python3.11/dist-packages (from qiskit-terra==0.25.1->qiskit==0.44.1) (2.9.0.post0)\n",
            "Collecting stevedore>=3.0.0 (from qiskit-terra==0.25.1->qiskit==0.44.1)\n",
            "  Downloading stevedore-5.4.1-py3-none-any.whl.metadata (2.3 kB)\n",
            "Collecting symengine<0.10,>=0.9 (from qiskit-terra==0.25.1->qiskit==0.44.1)\n",
            "  Downloading symengine-0.9.2-cp311-cp311-manylinux_2_12_x86_64.manylinux2010_x86_64.whl.metadata (1.1 kB)\n",
            "Requirement already satisfied: requests>=2.19 in /usr/local/lib/python3.11/dist-packages (from qiskit_ibm_runtime) (2.32.3)\n",
            "Collecting requests-ntlm>=1.1.0 (from qiskit_ibm_runtime)\n",
            "  Downloading requests_ntlm-1.3.0-py3-none-any.whl.metadata (2.4 kB)\n",
            "Requirement already satisfied: urllib3>=1.21.1 in /usr/local/lib/python3.11/dist-packages (from qiskit_ibm_runtime) (2.4.0)\n",
            "Collecting ibm-platform-services>=0.22.6 (from qiskit_ibm_runtime)\n",
            "  Downloading ibm_platform_services-0.66.1-py3-none-any.whl.metadata (9.0 kB)\n",
            "Requirement already satisfied: pydantic>=2.5.0 in /usr/local/lib/python3.11/dist-packages (from qiskit_ibm_runtime) (2.11.4)\n",
            "INFO: pip is looking at multiple versions of qiskit-ibm-runtime to determine which version is compatible with other requirements. This could take a while.\n",
            "Collecting qiskit_ibm_runtime\n",
            "  Downloading qiskit_ibm_runtime-0.39.0-py3-none-any.whl.metadata (21 kB)\n",
            "  Downloading qiskit_ibm_runtime-0.38.0-py3-none-any.whl.metadata (21 kB)\n",
            "Collecting pydantic<2.10,>=2.5.0 (from qiskit_ibm_runtime)\n",
            "  Downloading pydantic-2.9.2-py3-none-any.whl.metadata (149 kB)\n",
            "\u001b[2K     \u001b[90m━━━━━━━━━━━━━━━━━━━━━━━━━━━━━━━━━━━━━━\u001b[0m \u001b[32m149.4/149.4 kB\u001b[0m \u001b[31m10.7 MB/s\u001b[0m eta \u001b[36m0:00:00\u001b[0m\n",
            "\u001b[?25hCollecting qiskit_ibm_runtime\n",
            "  Downloading qiskit_ibm_runtime-0.37.0-py3-none-any.whl.metadata (20 kB)\n",
            "Requirement already satisfied: websocket-client>=1.5.1 in /usr/local/lib/python3.11/dist-packages (from qiskit_ibm_runtime) (1.8.0)\n",
            "  Downloading qiskit_ibm_runtime-0.36.1-py3-none-any.whl.metadata (20 kB)\n",
            "  Downloading qiskit_ibm_runtime-0.36.0-py3-none-any.whl.metadata (20 kB)\n",
            "  Downloading qiskit_ibm_runtime-0.35.0-py3-none-any.whl.metadata (20 kB)\n",
            "  Downloading qiskit_ibm_runtime-0.34.0-py3-none-any.whl.metadata (3.0 kB)\n",
            "INFO: pip is still looking at multiple versions of qiskit-ibm-runtime to determine which version is compatible with other requirements. This could take a while.\n",
            "  Downloading qiskit_ibm_runtime-0.33.2-py3-none-any.whl.metadata (19 kB)\n",
            "  Downloading qiskit_ibm_runtime-0.33.1-py3-none-any.whl.metadata (19 kB)\n",
            "  Downloading qiskit_ibm_runtime-0.33.0-py3-none-any.whl.metadata (19 kB)\n",
            "  Downloading qiskit_ibm_runtime-0.32.0-py3-none-any.whl.metadata (19 kB)\n",
            "  Downloading qiskit_ibm_runtime-0.31.0-py3-none-any.whl.metadata (19 kB)\n",
            "INFO: This is taking longer than usual. You might need to provide the dependency resolver with stricter constraints to reduce runtime. See https://pip.pypa.io/warnings/backtracking for guidance. If you want to abort this run, press Ctrl + C.\n",
            "  Downloading qiskit_ibm_runtime-0.30.0-py3-none-any.whl.metadata (19 kB)\n",
            "  Downloading qiskit_ibm_runtime-0.29.1-py3-none-any.whl.metadata (19 kB)\n",
            "  Downloading qiskit_ibm_runtime-0.29.0-py3-none-any.whl.metadata (19 kB)\n",
            "  Downloading qiskit_ibm_runtime-0.28.0-py3-none-any.whl.metadata (19 kB)\n",
            "  Downloading qiskit_ibm_runtime-0.27.1-py3-none-any.whl.metadata (19 kB)\n",
            "  Downloading qiskit_ibm_runtime-0.27.0-py3-none-any.whl.metadata (19 kB)\n",
            "  Downloading qiskit_ibm_runtime-0.26.0-py3-none-any.whl.metadata (19 kB)\n",
            "  Downloading qiskit_ibm_runtime-0.25.0-py3-none-any.whl.metadata (19 kB)\n",
            "  Downloading qiskit_ibm_runtime-0.24.1-py3-none-any.whl.metadata (19 kB)\n",
            "  Downloading qiskit_ibm_runtime-0.24.0-py3-none-any.whl.metadata (19 kB)\n",
            "  Downloading qiskit_ibm_runtime-0.23.0-py3-none-any.whl.metadata (19 kB)\n",
            "  Downloading qiskit_ibm_runtime-0.22.0-py3-none-any.whl.metadata (19 kB)\n",
            "  Downloading qiskit_ibm_runtime-0.21.2-py3-none-any.whl.metadata (19 kB)\n",
            "  Downloading qiskit_ibm_runtime-0.21.1-py3-none-any.whl.metadata (19 kB)\n",
            "  Downloading qiskit_ibm_runtime-0.21.0-py3-none-any.whl.metadata (19 kB)\n",
            "  Downloading qiskit_ibm_runtime-0.20.0-py3-none-any.whl.metadata (18 kB)\n",
            "  Downloading qiskit_ibm_runtime-0.19.1-py3-none-any.whl.metadata (18 kB)\n",
            "  Downloading qiskit_ibm_runtime-0.19.0-py3-none-any.whl.metadata (18 kB)\n",
            "  Downloading qiskit_ibm_runtime-0.18.0-py3-none-any.whl.metadata (18 kB)\n",
            "  Downloading qiskit_ibm_runtime-0.17.0-py3-none-any.whl.metadata (18 kB)\n",
            "Collecting qiskit-ibm-provider>=0.7.2 (from qiskit_ibm_runtime)\n",
            "  Downloading qiskit_ibm_provider-0.11.0-py3-none-any.whl.metadata (7.6 kB)\n",
            "Collecting ibm_cloud_sdk_core<4.0.0,>=3.24.1 (from ibm-platform-services>=0.22.6->qiskit_ibm_runtime)\n",
            "  Downloading ibm_cloud_sdk_core-3.24.1-py3-none-any.whl.metadata (8.7 kB)\n",
            "Requirement already satisfied: six>=1.5 in /usr/local/lib/python3.11/dist-packages (from python-dateutil>=2.8.0->qiskit-terra==0.25.1->qiskit==0.44.1) (1.17.0)\n",
            "INFO: pip is looking at multiple versions of qiskit-ibm-provider to determine which version is compatible with other requirements. This could take a while.\n",
            "Collecting qiskit-ibm-provider>=0.7.2 (from qiskit_ibm_runtime)\n",
            "  Downloading qiskit_ibm_provider-0.10.0-py3-none-any.whl.metadata (7.0 kB)\n",
            "  Downloading qiskit_ibm_provider-0.9.0-py3-none-any.whl.metadata (7.2 kB)\n",
            "  Downloading qiskit_ibm_provider-0.8.0-py3-none-any.whl.metadata (7.2 kB)\n",
            "  Downloading qiskit_ibm_provider-0.7.3-py3-none-any.whl.metadata (7.2 kB)\n",
            "Requirement already satisfied: websockets>=10.0 in /usr/local/lib/python3.11/dist-packages (from qiskit-ibm-provider>=0.7.2->qiskit_ibm_runtime) (15.0.1)\n",
            "Requirement already satisfied: typing-extensions>=4.3 in /usr/local/lib/python3.11/dist-packages (from qiskit-ibm-provider>=0.7.2->qiskit_ibm_runtime) (4.13.2)\n",
            "Requirement already satisfied: charset-normalizer<4,>=2 in /usr/local/lib/python3.11/dist-packages (from requests>=2.19->qiskit_ibm_runtime) (3.4.2)\n",
            "Requirement already satisfied: idna<4,>=2.5 in /usr/local/lib/python3.11/dist-packages (from requests>=2.19->qiskit_ibm_runtime) (3.10)\n",
            "Requirement already satisfied: certifi>=2017.4.17 in /usr/local/lib/python3.11/dist-packages (from requests>=2.19->qiskit_ibm_runtime) (2025.4.26)\n",
            "Requirement already satisfied: cryptography>=1.3 in /usr/local/lib/python3.11/dist-packages (from requests-ntlm>=1.1.0->qiskit_ibm_runtime) (43.0.3)\n",
            "Collecting pyspnego>=0.4.0 (from requests-ntlm>=1.1.0->qiskit_ibm_runtime)\n",
            "  Downloading pyspnego-0.11.2-py3-none-any.whl.metadata (5.4 kB)\n",
            "Requirement already satisfied: joblib>=1.2.0 in /usr/local/lib/python3.11/dist-packages (from scikit-learn>=1.2.0->qiskit-machine-learning==0.7.0) (1.5.0)\n",
            "Requirement already satisfied: threadpoolctl>=3.1.0 in /usr/local/lib/python3.11/dist-packages (from scikit-learn>=1.2.0->qiskit-machine-learning==0.7.0) (3.6.0)\n",
            "Requirement already satisfied: cffi>=1.12 in /usr/local/lib/python3.11/dist-packages (from cryptography>=1.3->requests-ntlm>=1.1.0->qiskit_ibm_runtime) (1.17.1)\n",
            "Requirement already satisfied: PyJWT<3.0.0,>=2.8.0 in /usr/local/lib/python3.11/dist-packages (from ibm_cloud_sdk_core<4.0.0,>=3.24.1->ibm-platform-services>=0.22.6->qiskit_ibm_runtime) (2.10.1)\n",
            "Collecting pbr>=2.0.0 (from stevedore>=3.0.0->qiskit-terra==0.25.1->qiskit==0.44.1)\n",
            "  Downloading pbr-6.1.1-py2.py3-none-any.whl.metadata (3.4 kB)\n",
            "Requirement already satisfied: mpmath<1.4,>=1.1.0 in /usr/local/lib/python3.11/dist-packages (from sympy>=1.3->qiskit-terra==0.25.1->qiskit==0.44.1) (1.3.0)\n",
            "Requirement already satisfied: pycparser in /usr/local/lib/python3.11/dist-packages (from cffi>=1.12->cryptography>=1.3->requests-ntlm>=1.1.0->qiskit_ibm_runtime) (2.22)\n",
            "Downloading qiskit-0.44.1-py3-none-any.whl (8.2 kB)\n",
            "Downloading qiskit_aer-0.12.1-cp311-cp311-manylinux_2_17_x86_64.manylinux2014_x86_64.whl (12.8 MB)\n",
            "\u001b[2K   \u001b[90m━━━━━━━━━━━━━━━━━━━━━━━━━━━━━━━━━━━━━━━━\u001b[0m \u001b[32m12.8/12.8 MB\u001b[0m \u001b[31m99.8 MB/s\u001b[0m eta \u001b[36m0:00:00\u001b[0m\n",
            "\u001b[?25hDownloading qiskit_algorithms-0.3.1-py3-none-any.whl (310 kB)\n",
            "\u001b[2K   \u001b[90m━━━━━━━━━━━━━━━━━━━━━━━━━━━━━━━━━━━━━━━━\u001b[0m \u001b[32m310.5/310.5 kB\u001b[0m \u001b[31m21.5 MB/s\u001b[0m eta \u001b[36m0:00:00\u001b[0m\n",
            "\u001b[?25hDownloading qiskit_machine_learning-0.7.0-py3-none-any.whl (96 kB)\n",
            "\u001b[2K   \u001b[90m━━━━━━━━━━━━━━━━━━━━━━━━━━━━━━━━━━━━━━━━\u001b[0m \u001b[32m96.8/96.8 kB\u001b[0m \u001b[31m8.0 MB/s\u001b[0m eta \u001b[36m0:00:00\u001b[0m\n",
            "\u001b[?25hDownloading qiskit_terra-0.25.1-cp38-abi3-manylinux_2_17_x86_64.manylinux2014_x86_64.whl (6.1 MB)\n",
            "\u001b[2K   \u001b[90m━━━━━━━━━━━━━━━━━━━━━━━━━━━━━━━━━━━━━━━━\u001b[0m \u001b[32m6.1/6.1 MB\u001b[0m \u001b[31m91.6 MB/s\u001b[0m eta \u001b[36m0:00:00\u001b[0m\n",
            "\u001b[?25hDownloading qiskit_ibm_runtime-0.17.0-py3-none-any.whl (229 kB)\n",
            "\u001b[2K   \u001b[90m━━━━━━━━━━━━━━━━━━━━━━━━━━━━━━━━━━━━━━━━\u001b[0m \u001b[32m229.7/229.7 kB\u001b[0m \u001b[31m17.6 MB/s\u001b[0m eta \u001b[36m0:00:00\u001b[0m\n",
            "\u001b[?25hDownloading ibm_platform_services-0.66.1-py3-none-any.whl (363 kB)\n",
            "\u001b[2K   \u001b[90m━━━━━━━━━━━━━━━━━━━━━━━━━━━━━━━━━━━━━━━━\u001b[0m \u001b[32m363.9/363.9 kB\u001b[0m \u001b[31m24.5 MB/s\u001b[0m eta \u001b[36m0:00:00\u001b[0m\n",
            "\u001b[?25hDownloading qiskit_ibm_provider-0.7.3-py3-none-any.whl (243 kB)\n",
            "\u001b[2K   \u001b[90m━━━━━━━━━━━━━━━━━━━━━━━━━━━━━━━━━━━━━━━━\u001b[0m \u001b[32m243.9/243.9 kB\u001b[0m \u001b[31m17.1 MB/s\u001b[0m eta \u001b[36m0:00:00\u001b[0m\n",
            "\u001b[?25hDownloading requests_ntlm-1.3.0-py3-none-any.whl (6.6 kB)\n",
            "Downloading ibm_cloud_sdk_core-3.24.1-py3-none-any.whl (75 kB)\n",
            "\u001b[2K   \u001b[90m━━━━━━━━━━━━━━━━━━━━━━━━━━━━━━━━━━━━━━━━\u001b[0m \u001b[32m75.8/75.8 kB\u001b[0m \u001b[31m6.2 MB/s\u001b[0m eta \u001b[36m0:00:00\u001b[0m\n",
            "\u001b[?25hDownloading pyspnego-0.11.2-py3-none-any.whl (130 kB)\n",
            "\u001b[2K   \u001b[90m━━━━━━━━━━━━━━━━━━━━━━━━━━━━━━━━━━━━━━━━\u001b[0m \u001b[32m130.5/130.5 kB\u001b[0m \u001b[31m9.9 MB/s\u001b[0m eta \u001b[36m0:00:00\u001b[0m\n",
            "\u001b[?25hDownloading rustworkx-0.16.0-cp39-abi3-manylinux_2_17_x86_64.manylinux2014_x86_64.whl (2.1 MB)\n",
            "\u001b[2K   \u001b[90m━━━━━━━━━━━━━━━━━━━━━━━━━━━━━━━━━━━━━━━━\u001b[0m \u001b[32m2.1/2.1 MB\u001b[0m \u001b[31m74.4 MB/s\u001b[0m eta \u001b[36m0:00:00\u001b[0m\n",
            "\u001b[?25hDownloading stevedore-5.4.1-py3-none-any.whl (49 kB)\n",
            "\u001b[2K   \u001b[90m━━━━━━━━━━━━━━━━━━━━━━━━━━━━━━━━━━━━━━━━\u001b[0m \u001b[32m49.5/49.5 kB\u001b[0m \u001b[31m3.5 MB/s\u001b[0m eta \u001b[36m0:00:00\u001b[0m\n",
            "\u001b[?25hDownloading symengine-0.9.2-cp311-cp311-manylinux_2_12_x86_64.manylinux2010_x86_64.whl (38.6 MB)\n",
            "\u001b[2K   \u001b[90m━━━━━━━━━━━━━━━━━━━━━━━━━━━━━━━━━━━━━━━━\u001b[0m \u001b[32m38.6/38.6 MB\u001b[0m \u001b[31m26.7 MB/s\u001b[0m eta \u001b[36m0:00:00\u001b[0m\n",
            "\u001b[?25hDownloading pbr-6.1.1-py2.py3-none-any.whl (108 kB)\n",
            "\u001b[2K   \u001b[90m━━━━━━━━━━━━━━━━━━━━━━━━━━━━━━━━━━━━━━━━\u001b[0m \u001b[32m109.0/109.0 kB\u001b[0m \u001b[31m7.6 MB/s\u001b[0m eta \u001b[36m0:00:00\u001b[0m\n",
            "\u001b[?25hBuilding wheels for collected packages: pylatexenc, fastdtw\n",
            "  Building wheel for pylatexenc (setup.py) ... \u001b[?25l\u001b[?25hdone\n",
            "  Created wheel for pylatexenc: filename=pylatexenc-2.10-py3-none-any.whl size=136817 sha256=9c6603049d949106f3ba2d4b41d486c91c6537ec98bcc271ef1d53ac1a5f6d70\n",
            "  Stored in directory: /root/.cache/pip/wheels/b1/7a/33/9fdd892f784ed4afda62b685ae3703adf4c91aa0f524c28f03\n",
            "  Building wheel for fastdtw (setup.py) ... \u001b[?25l\u001b[?25hdone\n",
            "  Created wheel for fastdtw: filename=fastdtw-0.3.4-cp311-cp311-linux_x86_64.whl size=542159 sha256=1bb645c452221c28c7f1798cf1012040358b68cd22139a3babcbb4e351035c37\n",
            "  Stored in directory: /root/.cache/pip/wheels/5c/8a/f6/fd3df9a9714677410a5ccbf3ca519e66db4a54a1c46ea95332\n",
            "Successfully built pylatexenc fastdtw\n",
            "Installing collected packages: pylatexenc, symengine, rustworkx, pbr, fastdtw, stevedore, ibm_cloud_sdk_core, qiskit-terra, pyspnego, ibm-platform-services, requests-ntlm, qiskit-aer, qiskit, qiskit-ibm-provider, qiskit-algorithms, qiskit-machine-learning, qiskit_ibm_runtime\n",
            "Successfully installed fastdtw-0.3.4 ibm-platform-services-0.66.1 ibm_cloud_sdk_core-3.24.1 pbr-6.1.1 pylatexenc-2.10 pyspnego-0.11.2 qiskit-0.44.1 qiskit-aer-0.12.1 qiskit-algorithms-0.3.1 qiskit-ibm-provider-0.7.3 qiskit-machine-learning-0.7.0 qiskit-terra-0.25.1 qiskit_ibm_runtime-0.17.0 requests-ntlm-1.3.0 rustworkx-0.16.0 stevedore-5.4.1 symengine-0.9.2\n"
          ]
        }
      ]
    },
    {
      "cell_type": "markdown",
      "source": [
        "# Quantum Circuit Section"
      ],
      "metadata": {
        "id": "PPt5HvQj_N5z"
      }
    },
    {
      "cell_type": "markdown",
      "source": [
        "## Build Quantum Feature Map"
      ],
      "metadata": {
        "id": "0OU0cqWjB3C3"
      }
    },
    {
      "cell_type": "code",
      "source": [
        "from qiskit import QuantumCircuit\n",
        "from qiskit.circuit import ParameterVector"
      ],
      "metadata": {
        "id": "rWRv7ust_eKH"
      },
      "execution_count": null,
      "outputs": []
    },
    {
      "cell_type": "code",
      "source": [
        "# Use only 2 features\n",
        "# Ensure this matches the number of qubits in the feature map\n",
        "X_small = X.iloc[:50, :2].to_numpy()\n",
        "y_small = y.iloc[:50].to_numpy()\n",
        "\n",
        "# Define the feature map with the correct number of features/qubits\n",
        "# which is 2, matching X_small's dimension\n",
        "feature_dimension = X_small.shape[1] # Get dimension from data\n",
        "reps = 2               # Number of repetitions in ZZFeatureMap\n",
        "entanglement = 'linear' # Type of entanglement between qubits"
      ],
      "metadata": {
        "id": "A27ntcuchA3N"
      },
      "execution_count": null,
      "outputs": []
    },
    {
      "cell_type": "code",
      "source": [
        "# Create a custom rotation layer encoding one parameter on each qubit\n",
        "\n",
        "training_params = ParameterVector(\"θ\", 1)\n",
        "fm0 = QuantumCircuit(feature_dimension)\n",
        "for qubit in range(feature_dimension):\n",
        "    fm0.ry(training_params[0], qubit)"
      ],
      "metadata": {
        "id": "jbHefqH2QamO"
      },
      "execution_count": null,
      "outputs": []
    },
    {
      "cell_type": "code",
      "source": [
        "from qiskit.circuit.library import ZZFeatureMap\n",
        "\n",
        "# Standard Qiskit feature map that uses entangling ZZ rotations\n",
        "fm1 = ZZFeatureMap(feature_dimension=feature_dimension, reps=reps, entanglement=entanglement)\n",
        "\n",
        "# Compose the custom Ry rotations with the ZZFeatureMap to create final feature map\n",
        "fm = fm0.compose(fm1)\n",
        "\n",
        "print(\"Quantum Feature Map Circuit:\")\n",
        "fm.draw('mpl')  # Visualize the quantum circuit"
      ],
      "metadata": {
        "id": "SlHooDPjQgzO",
        "colab": {
          "base_uri": "https://localhost:8080/",
          "height": 209
        },
        "outputId": "46120d1f-c79c-481b-e662-4b00471c68c3"
      },
      "execution_count": null,
      "outputs": [
        {
          "output_type": "stream",
          "name": "stdout",
          "text": [
            "Quantum Feature Map Circuit:\n"
          ]
        },
        {
          "output_type": "execute_result",
          "data": {
            "text/plain": [
              "<Figure size 454.517x200.667 with 1 Axes>"
            ],
            "image/png": "[encoded data removed]"
          },
          "metadata": {},
          "execution_count": 48
        }
      ]
    },
    {
      "cell_type": "markdown",
      "source": [
        "## Simulate Quantum Circuit"
      ],
      "metadata": {
        "id": "zJhjehekB-Eh"
      }
    },
    {
      "cell_type": "code",
      "source": [
        "import numpy as np\n",
        "from qiskit import QuantumCircuit\n",
        "from qiskit_aer import AerSimulator\n",
        "from qiskit import transpile\n",
        "\n",
        "# Bind all circuit parameters to a fixed value (π/4 here)\n",
        "param_dict = {param: np.pi / 4 for param in fm.parameters}\n",
        "bound_circuit = fm.assign_parameters(param_dict)\n",
        "\n",
        "# Add measurement operations to all qubits for readout\n",
        "bound_circuit.measure_all()\n",
        "\n",
        "# Initialize the Aer simulator backend\n",
        "simulator = AerSimulator()\n",
        "\n",
        "# Compile the circuit for the simulator\n",
        "compiled_circuit = transpile(bound_circuit, simulator)\n",
        "\n",
        "# Run the simulation with 1024 shots (repetitions)\n",
        "job = simulator.run(compiled_circuit, shots=1024)\n",
        "\n",
        "# Retrieve results from the simulator job\n",
        "result = job.result()\n",
        "counts = result.get_counts()\n",
        "\n",
        "# Print the counts of measurement outcomes as a dictionary\n",
        "print(\"Simulation counts:\", counts)"
      ],
      "metadata": {
        "colab": {
          "base_uri": "https://localhost:8080/"
        },
        "id": "3Q4y9JpX-p4u",
        "outputId": "de34b8f8-be70-4f1f-c782-b1a593130ab8"
      },
      "execution_count": null,
      "outputs": [
        {
          "output_type": "stream",
          "name": "stdout",
          "text": [
            "Simulation counts: {'11': 1, '01': 219, '10': 288, '00': 516}\n"
          ]
        }
      ]
    },
    {
      "cell_type": "code",
      "source": [
        "# Set up a trainable quantum kernel for SVM using fidelity\n",
        "\n",
        "from qiskit.primitives import Sampler\n",
        "sampler = Sampler()"
      ],
      "metadata": {
        "id": "W29_GjWEfvV8"
      },
      "execution_count": null,
      "outputs": []
    },
    {
      "cell_type": "code",
      "source": [
        "# Set up the ComputeUncompute fidelity object for quantum kernel estimation\n",
        "from qiskit_algorithms.state_fidelities import ComputeUncompute\n",
        "\n",
        "# Define fidelity object and quantum kernel\n",
        "\n",
        "fidelity = ComputeUncompute(sampler=sampler)"
      ],
      "metadata": {
        "id": "WbVNWELbfpif"
      },
      "execution_count": null,
      "outputs": []
    },
    {
      "source": [
        "from qiskit_machine_learning.kernels import FidelityQuantumKernel\n",
        "from qiskit_machine_learning.algorithms import QSVC\n",
        "\n",
        "\n",
        "# Build FidelityQuantumKernel\n",
        "quantum_kernel = FidelityQuantumKernel(feature_map=fm1, fidelity=fidelity)\n",
        "\n",
        "# Use QSVC\n",
        "qsvc = QSVC(quantum_kernel=quantum_kernel)\n",
        "qsvc.fit(X_small, y_small)\n",
        "accuracy = qsvc.score(X_small, y_small)\n",
        "\n",
        "print(\"QSVC accuracy:\", accuracy)"
      ],
      "cell_type": "code",
      "metadata": {
        "colab": {
          "base_uri": "https://localhost:8080/"
        },
        "id": "yQ-YoFG_gLYN",
        "outputId": "2e709b19-5de7-42db-cf06-27e3fcffff63"
      },
      "execution_count": null,
      "outputs": [
        {
          "output_type": "stream",
          "name": "stdout",
          "text": [
            "QSVC accuracy: 0.96\n"
          ]
        }
      ]
    },
    {
      "cell_type": "markdown",
      "source": [
        "### Preliminary Results and Reflection\n",
        "\n",
        "\n",
        "1. **Quantum circuit and simulation:**\n",
        "   - Constructed a quantum feature map combining custom `Ry` rotations and a `ZZFeatureMap` for entanglement.\n",
        "   - Parameters were bound to π/4 and the circuit was simulated on the `AerSimulator` with 1024 shots.\n",
        "   - Measurement results confirmed the circuit encodes a meaningful distribution over quantum states.\n",
        "\n",
        "2. **Challenges faced:**\n",
        "   - Adapting a large, high-dimensional dataset to a 2-qubit quantum circuit required dimensionality reduction or selective feature use.\n",
        "   - Understanding and debugging Qiskit’s parameter binding and circuit composition took time.\n",
        "   - This project used a simulator (`AerSimulator`) rather than real quantum hardware."
      ],
      "metadata": {
        "id": "XIPVFDBXAPvq"
      }
    }
  ]
}